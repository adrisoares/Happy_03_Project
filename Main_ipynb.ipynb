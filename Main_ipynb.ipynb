{
  "nbformat": 4,
  "nbformat_minor": 0,
  "metadata": {
    "colab": {
      "provenance": []
    },
    "kernelspec": {
      "name": "python3",
      "display_name": "Python 3"
    },
    "language_info": {
      "name": "python"
    }
  },
  "cells": [
    {
      "cell_type": "code",
      "execution_count": null,
      "metadata": {
        "id": "wCbaNgak13ql"
      },
      "outputs": [],
      "source": [
        "def sum(x,y):\n",
        "  \"\"\" This function will sum x and y and return it's result \"\"\"\n",
        "  return x + y"
      ]
    },
    {
      "cell_type": "code",
      "source": [],
      "metadata": {
        "id": "ciIpgfJg_N8D"
      },
      "execution_count": null,
      "outputs": []
    }
  ]
}